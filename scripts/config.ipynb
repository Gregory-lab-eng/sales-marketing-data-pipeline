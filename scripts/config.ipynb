{
 "cells": [
  {
   "cell_type": "code",
   "execution_count": 0,
   "metadata": {
    "application/vnd.databricks.v1+cell": {
     "cellMetadata": {},
     "inputWidgets": {},
     "nuid": "0390783b-dc5a-4b56-ab10-f39315426388",
     "showTitle": false,
     "tableResultSettingsMap": {},
     "title": ""
    }
   },
   "outputs": [],
   "source": [
    "# config.py\n",
    "from dataclasses import dataclass\n",
    "from typing import Optional\n",
    "import os\n",
    "\n",
    "@dataclass\n",
    "class PipelineConfig:\n",
    "    \"\"\"Configuration for data pipeline\"\"\"\n",
    "    \n",
    "    # Storage\n",
    "    storage_account: str = os.getenv(\"STORAGE_ACCOUNT\", \"salesmarketingstorage1\")\n",
    "    landing_container: str = \"landing\"\n",
    "    bronze_container: str = \"bronze\"\n",
    "    metadata_container: str = \"metadata\"\n",
    "    \n",
    "    # Processing\n",
    "    max_files_per_trigger: int = 100\n",
    "    enable_schema_evolution: bool = True\n",
    "    \n",
    "    # Data Quality\n",
    "    enable_quarantine: bool = True\n",
    "    quarantine_threshold: float = 0.1  # Alert if >10% invalid\n",
    "    \n",
    "    # Optimization\n",
    "    enable_auto_optimize: bool = True\n",
    "    partition_columns: list = None\n",
    "    \n",
    "    def __post_init__(self):\n",
    "        if self.partition_columns is None:\n",
    "            self.partition_columns = [\"customer_state\"]\n",
    "    \n",
    "    @property\n",
    "    def landing_path(self):\n",
    "        return f\"abfss://{self.landing_container}@{self.storage_account}.dfs.core.windows.net\"\n",
    "    \n",
    "    @property\n",
    "    def bronze_path(self):\n",
    "        return f\"abfss://{self.bronze_container}@{self.storage_account}.dfs.core.windows.net\""
   ]
  }
 ],
 "metadata": {
  "application/vnd.databricks.v1+notebook": {
   "computePreferences": null,
   "dashboards": [],
   "environmentMetadata": {
    "base_environment": "",
    "environment_version": "4"
   },
   "inputWidgetPreferences": null,
   "language": "python",
   "notebookMetadata": {
    "pythonIndentUnit": 4
   },
   "notebookName": "config",
   "widgets": {}
  },
  "language_info": {
   "name": "python"
  }
 },
 "nbformat": 4,
 "nbformat_minor": 0
}
