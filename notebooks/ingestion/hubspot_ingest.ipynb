{
 "cells": [
  {
   "cell_type": "code",
   "execution_count": 0,
   "metadata": {
    "application/vnd.databricks.v1+cell": {
     "cellMetadata": {
      "byteLimit": 2048000,
      "rowLimit": 10000
     },
     "inputWidgets": {},
     "nuid": "45011306-a6cb-4d86-81eb-820aaef20d48",
     "showTitle": false,
     "tableResultSettingsMap": {},
     "title": ""
    }
   },
   "outputs": [],
   "source": [
    "from pyspark.sql.functions import explode, col\n",
    "import requests, json"
   ]
  },
  {
   "cell_type": "code",
   "execution_count": 0,
   "metadata": {
    "application/vnd.databricks.v1+cell": {
     "cellMetadata": {
      "byteLimit": 2048000,
      "rowLimit": 10000
     },
     "inputWidgets": {},
     "nuid": "2305879d-3747-417a-a8fb-8192d765853f",
     "showTitle": false,
     "tableResultSettingsMap": {},
     "title": ""
    }
   },
   "outputs": [],
   "source": [
    "token = dbutils.secrets.get(scope=\"hubspot_secrets\", key=\"api_token\")"
   ]
  },
  {
   "cell_type": "code",
   "execution_count": 0,
   "metadata": {
    "application/vnd.databricks.v1+cell": {
     "cellMetadata": {
      "byteLimit": 2048000,
      "rowLimit": 10000
     },
     "inputWidgets": {},
     "nuid": "c56231e4-a926-464a-93ea-76338c34a917",
     "showTitle": false,
     "tableResultSettingsMap": {},
     "title": ""
    }
   },
   "outputs": [],
   "source": [
    " \n",
    "url = 'https://api.hubapi.com/crm/v3/objects/contacts'\n",
    "headers = {'Authorization': F'Bearer {token}'}\n",
    "data = requests.get(url, headers=headers).json()\n",
    "dbutils.fs.put('abfss://landing@salesmarketingstorage1.dfs.core.windows.net/hubspot/contacts.json', json.dumps(data), overwrite=True)"
   ]
  },
  {
   "cell_type": "code",
   "execution_count": 0,
   "metadata": {
    "application/vnd.databricks.v1+cell": {
     "cellMetadata": {
      "byteLimit": 2048000,
      "rowLimit": 10000
     },
     "inputWidgets": {},
     "nuid": "7dfd5fa3-6f3b-47eb-b813-1620bafbfd2c",
     "showTitle": false,
     "tableResultSettingsMap": {},
     "title": ""
    }
   },
   "outputs": [],
   "source": [
    "df = (\n",
    "spark.read \n",
    ".options(header=True)\n",
    ".option(\"multiline\", \"true\") \n",
    ".json(\"abfss://landing@salesmarketingstorage1.dfs.core.windows.net/hubspot/contacts.json\")\n",
    ")\n",
    "\n",
    "df.show()"
   ]
  },
  {
   "cell_type": "code",
   "execution_count": 0,
   "metadata": {
    "application/vnd.databricks.v1+cell": {
     "cellMetadata": {
      "byteLimit": 2048000,
      "rowLimit": 10000
     },
     "inputWidgets": {},
     "nuid": "8e8b3f6f-6017-415c-8958-cadcd78e63b2",
     "showTitle": false,
     "tableResultSettingsMap": {},
     "title": ""
    }
   },
   "outputs": [],
   "source": [
    "df.printSchema()"
   ]
  },
  {
   "cell_type": "code",
   "execution_count": 0,
   "metadata": {
    "application/vnd.databricks.v1+cell": {
     "cellMetadata": {
      "byteLimit": 2048000,
      "rowLimit": 10000
     },
     "inputWidgets": {},
     "nuid": "68ea28b4-bb16-4944-b929-66d50a4004cb",
     "showTitle": false,
     "tableResultSettingsMap": {},
     "title": ""
    }
   },
   "outputs": [],
   "source": [
    "\n",
    "\n",
    "exploded_df = df.select(explode(col(\"results\")).alias(\"contact\"))\n",
    "exploded_df.printSchema()"
   ]
  },
  {
   "cell_type": "code",
   "execution_count": 0,
   "metadata": {
    "application/vnd.databricks.v1+cell": {
     "cellMetadata": {
      "byteLimit": 2048000,
      "rowLimit": 10000
     },
     "inputWidgets": {},
     "nuid": "47249abf-d8d2-47f0-898a-088a87681bcd",
     "showTitle": false,
     "tableResultSettingsMap": {},
     "title": ""
    }
   },
   "outputs": [],
   "source": [
    "flat_df = exploded_df.select(\n",
    "    col(\"contact.id\").alias(\"contact_id\"),\n",
    "    col(\"contact.archived\").alias(\"archived\"),\n",
    "    col(\"contact.createdAt\").alias(\"created_at\"),\n",
    "    col(\"contact.updatedAt\").alias(\"updated_at\"),\n",
    "    col(\"contact.url\").alias(\"url\"),\n",
    "    col(\"contact.properties.firstname\").alias(\"firstname\"),\n",
    "    col(\"contact.properties.lastname\").alias(\"lastname\"),\n",
    "    col(\"contact.properties.email\").alias(\"email\"),\n",
    "    col(\"contact.properties.createdate\").alias(\"property_createdate\"),\n",
    "    col(\"contact.properties.lastmodifieddate\").alias(\"property_lastmodifieddate\"),\n",
    "    col(\"contact.properties.hs_object_id\").alias(\"hs_object_id\")\n",
    ")\n",
    "flat_df.display()"
   ]
  },
  {
   "cell_type": "code",
   "execution_count": 0,
   "metadata": {
    "application/vnd.databricks.v1+cell": {
     "cellMetadata": {
      "byteLimit": 2048000,
      "rowLimit": 10000
     },
     "inputWidgets": {},
     "nuid": "f13dd837-dcb1-4534-97e9-e11b97f0df2b",
     "showTitle": false,
     "tableResultSettingsMap": {},
     "title": ""
    }
   },
   "outputs": [],
   "source": [
    "flat_df.write.mode(\"overwrite\").saveAsTable(\"bronze.hubspot.hubspot_contacts\")"
   ]
  },
  {
   "cell_type": "code",
   "execution_count": 0,
   "metadata": {
    "application/vnd.databricks.v1+cell": {
     "cellMetadata": {},
     "inputWidgets": {},
     "nuid": "d5268b8b-2052-460d-9c0a-a318cc173381",
     "showTitle": false,
     "tableResultSettingsMap": {},
     "title": ""
    }
   },
   "outputs": [],
   "source": []
  }
 ],
 "metadata": {
  "application/vnd.databricks.v1+notebook": {
   "computePreferences": null,
   "dashboards": [],
   "environmentMetadata": {
    "base_environment": "",
    "environment_version": "4"
   },
   "inputWidgetPreferences": null,
   "language": "python",
   "notebookMetadata": {
    "mostRecentlyExecutedCommandWithImplicitDF": {
     "commandId": 6699877098549010,
     "dataframes": [
      "_sqldf"
     ]
    },
    "pythonIndentUnit": 4
   },
   "notebookName": "hubspot_ingest",
   "widgets": {}
  },
  "language_info": {
   "name": "python"
  }
 },
 "nbformat": 4,
 "nbformat_minor": 0
}
