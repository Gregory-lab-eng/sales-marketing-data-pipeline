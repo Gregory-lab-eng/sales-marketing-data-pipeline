{
 "cells": [
  {
   "cell_type": "code",
   "execution_count": 0,
   "metadata": {
    "application/vnd.databricks.v1+cell": {
     "cellMetadata": {
      "byteLimit": 2048000,
      "rowLimit": 10000
     },
     "inputWidgets": {},
     "nuid": "d54f2671-3bc8-4628-b569-4e1f2a6fd211",
     "showTitle": false,
     "tableResultSettingsMap": {},
     "title": ""
    }
   },
   "outputs": [],
   "source": [
    "CREATE TABLE IF NOT EXISTS gold.dim_items (\n",
    "  item_sk BIGINT GENERATED ALWAYS AS IDENTITY,\n",
    "  order_id STRING,\n",
    "  order_item_id INT,\n",
    "  product_id STRING,\n",
    "  seller_id STRING,\n",
    "  shipping_limit_date TIMESTAMP,\n",
    "  price DECIMAL(10,2),\n",
    "  freight_value DECIMAL(10,2)\n",
    ") USING DELTA\n",
    "\n",
    "  "
   ]
  },
  {
   "cell_type": "code",
   "execution_count": 0,
   "metadata": {
    "application/vnd.databricks.v1+cell": {
     "cellMetadata": {
      "byteLimit": 2048000,
      "rowLimit": 10000
     },
     "inputWidgets": {},
     "nuid": "aad61c1f-17dc-40dc-b140-d4376d729ec7",
     "showTitle": false,
     "tableResultSettingsMap": {},
     "title": ""
    }
   },
   "outputs": [],
   "source": [
    "%python\n",
    "items_df = spark.read.table(\"silver.order_items_cleaned\")\n",
    "items_df.createOrReplaceTempView(\"items_view\")"
   ]
  },
  {
   "cell_type": "code",
   "execution_count": 0,
   "metadata": {
    "application/vnd.databricks.v1+cell": {
     "cellMetadata": {
      "byteLimit": 2048000,
      "rowLimit": 10000
     },
     "inputWidgets": {},
     "nuid": "c7597c79-d6f3-4405-b6b2-76a48cf16d96",
     "showTitle": false,
     "tableResultSettingsMap": {},
     "title": ""
    }
   },
   "outputs": [],
   "source": [
    "MERGE INTO gold.dim_items AS t\n",
    "USING items_view AS s\n",
    "ON t.order_id = s.order_id\n",
    "\n",
    "WHEN MATCHED THEN\n",
    "  UPDATE SET \n",
    "  t.order_item_id = s.order_item_id,\n",
    "  t.product_id = s.product_id,\n",
    "  t.price = s.price,\n",
    "  t.freight_value = s.freight_value\n",
    "\n",
    "WHEN NOT MATCHED\n",
    "  THEN INSERT (\n",
    "    order_id,\n",
    "    order_item_id,\n",
    "    product_id,\n",
    "    seller_id,\n",
    "    shipping_limit_date,\n",
    "    price,\n",
    "    freight_value\n",
    "  ) VALUES (\n",
    "    s.order_id,\n",
    "    s.order_item_id,\n",
    "    s.product_id,\n",
    "    s.seller_id,\n",
    "    s.shipping_limit_date,\n",
    "    s.price,\n",
    "    s.freight_value\n",
    "  )"
   ]
  },
  {
   "cell_type": "code",
   "execution_count": 0,
   "metadata": {
    "application/vnd.databricks.v1+cell": {
     "cellMetadata": {
      "byteLimit": 2048000,
      "rowLimit": 10000
     },
     "inputWidgets": {},
     "nuid": "5daeb76c-7b13-44a1-8daf-b04993e44f5d",
     "showTitle": false,
     "tableResultSettingsMap": {},
     "title": ""
    }
   },
   "outputs": [],
   "source": [
    "SELECT * FROM gold.dim_items LIMIT 10;"
   ]
  },
  {
   "cell_type": "code",
   "execution_count": 0,
   "metadata": {
    "application/vnd.databricks.v1+cell": {
     "cellMetadata": {},
     "inputWidgets": {},
     "nuid": "7b65aa27-cd23-4eff-905b-434032b51bd0",
     "showTitle": false,
     "tableResultSettingsMap": {},
     "title": ""
    }
   },
   "outputs": [],
   "source": []
  }
 ],
 "metadata": {
  "application/vnd.databricks.v1+notebook": {
   "computePreferences": null,
   "dashboards": [],
   "environmentMetadata": {
    "base_environment": "",
    "environment_version": "4"
   },
   "inputWidgetPreferences": null,
   "language": "sql",
   "notebookMetadata": {
    "pythonIndentUnit": 4
   },
   "notebookName": "dim_items",
   "widgets": {}
  },
  "language_info": {
   "name": "sql"
  }
 },
 "nbformat": 4,
 "nbformat_minor": 0
}
