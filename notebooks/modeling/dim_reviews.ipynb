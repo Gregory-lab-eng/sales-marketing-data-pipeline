{
 "cells": [
  {
   "cell_type": "code",
   "execution_count": 0,
   "metadata": {
    "application/vnd.databricks.v1+cell": {
     "cellMetadata": {
      "byteLimit": 2048000,
      "rowLimit": 10000
     },
     "inputWidgets": {},
     "nuid": "d87f291d-7fed-4928-ad13-c68d44eff8a0",
     "showTitle": false,
     "tableResultSettingsMap": {},
     "title": ""
    }
   },
   "outputs": [],
   "source": [
    "CREATE TABLE IF NOT EXISTS gold.dim_reviews (\n",
    "  review_sk BIGINT NOT NULL GENERATED ALWAYS AS IDENTITY,\n",
    "  review_id STRING,\n",
    "  order_id STRING,\n",
    "  review_score INTEGER,\n",
    "  review_comment_title STRING,\n",
    "  review_comment_message STRING,\n",
    "  review_creation_date TIMESTAMP,\n",
    "  review_answer_timestamp TIMESTAMP\n",
    ")\n",
    "USING DELTA\n"
   ]
  },
  {
   "cell_type": "code",
   "execution_count": 0,
   "metadata": {
    "application/vnd.databricks.v1+cell": {
     "cellMetadata": {
      "byteLimit": 2048000,
      "rowLimit": 10000
     },
     "inputWidgets": {},
     "nuid": "7c82e5f6-4667-4aba-a674-fd5dbb6e1b8e",
     "showTitle": false,
     "tableResultSettingsMap": {},
     "title": ""
    }
   },
   "outputs": [],
   "source": [
    "%python\n",
    "reviews_df = spark.read.table(\"silver.order_reviews_cleaned\")\n",
    "reviews_df.createOrReplaceTempView(\"reviews_view\")"
   ]
  },
  {
   "cell_type": "code",
   "execution_count": 0,
   "metadata": {
    "application/vnd.databricks.v1+cell": {
     "cellMetadata": {
      "byteLimit": 2048000,
      "rowLimit": 10000
     },
     "inputWidgets": {},
     "nuid": "f61130c7-022d-4ba7-b4f0-3cc0a635eaa6",
     "showTitle": false,
     "tableResultSettingsMap": {},
     "title": ""
    }
   },
   "outputs": [],
   "source": [
    "MERGE INTO gold.dim_reviews t\n",
    "USING reviews_view s\n",
    "ON t.review_id = s.review_id\n",
    "WHEN MATCHED THEN \n",
    "  UPDATE SET\n",
    "  t.review_id = s.review_id,\n",
    "  t.order_id = s.order_id,\n",
    "  t.review_score = s.review_score,\n",
    "  t.review_comment_title = s.review_comment_title,\n",
    "  t.review_comment_message = s.review_comment_message,\n",
    "  t.review_creation_date = s.review_creation_date,\n",
    "  t.review_answer_timestamp = s.review_answer_timestamp\n",
    "WHEN NOT MATCHED THEN \n",
    "  INSERT (\n",
    "    review_id,\n",
    "    order_id,\n",
    "    review_score,\n",
    "    review_comment_title,\n",
    "    review_comment_message,\n",
    "    review_creation_date,\n",
    "    review_answer_timestamp\n",
    "  ) VALUES (\n",
    "    s.review_id,\n",
    "    s.order_id,\n",
    "    s.review_score,\n",
    "    s.review_comment_title,\n",
    "    s.review_comment_message,\n",
    "    s.review_creation_date,\n",
    "    s.review_answer_timestamp\n",
    "  )"
   ]
  },
  {
   "cell_type": "code",
   "execution_count": 0,
   "metadata": {
    "application/vnd.databricks.v1+cell": {
     "cellMetadata": {
      "byteLimit": 2048000,
      "rowLimit": 10000
     },
     "inputWidgets": {},
     "nuid": "8e454a8f-0138-43a0-96fd-ffd2403ffd4b",
     "showTitle": false,
     "tableResultSettingsMap": {},
     "title": ""
    }
   },
   "outputs": [],
   "source": [
    "SELECT * FROM gold.dim_reviews limit 10;"
   ]
  },
  {
   "cell_type": "code",
   "execution_count": 0,
   "metadata": {
    "application/vnd.databricks.v1+cell": {
     "cellMetadata": {
      "byteLimit": 2048000,
      "rowLimit": 10000
     },
     "inputWidgets": {},
     "nuid": "dfa8c84a-624c-4009-b430-f0e79bebb47f",
     "showTitle": false,
     "tableResultSettingsMap": {},
     "title": ""
    }
   },
   "outputs": [],
   "source": []
  }
 ],
 "metadata": {
  "application/vnd.databricks.v1+notebook": {
   "computePreferences": {
    "hardware": {
     "accelerator": null,
     "gpuPoolId": null,
     "memory": null
    }
   },
   "dashboards": [],
   "environmentMetadata": {
    "base_environment": "",
    "environment_version": "3"
   },
   "inputWidgetPreferences": null,
   "language": "sql",
   "notebookMetadata": {
    "pythonIndentUnit": 4
   },
   "notebookName": "dim_reviews",
   "widgets": {}
  },
  "language_info": {
   "name": "sql"
  }
 },
 "nbformat": 4,
 "nbformat_minor": 0
}
