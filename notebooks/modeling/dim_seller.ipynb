{
 "cells": [
  {
   "cell_type": "code",
   "execution_count": 0,
   "metadata": {
    "application/vnd.databricks.v1+cell": {
     "cellMetadata": {
      "byteLimit": 2048000,
      "rowLimit": 10000
     },
     "inputWidgets": {},
     "nuid": "c43b886e-ecd2-49de-aa09-353345fd7525",
     "showTitle": false,
     "tableResultSettingsMap": {},
     "title": ""
    }
   },
   "outputs": [],
   "source": [
    "CREATE TABLE IF NOT EXISTS gold.dim_sellers(\n",
    "  seller_sk BIGINT GENERATED ALWAYS AS IDENTITY,\n",
    "  seller_id STRING,\n",
    "  seller_zip_code_prefix STRING,\n",
    "  seller_city  STRING,\n",
    "  seller_state STRING,\n",
    "  geolocation_sk BIGINT,\n",
    "  start_date DATE,\n",
    "  end_date DATE,\n",
    "  is_current BOOLEAN\n",
    ") USING DELTA;\n",
    "\n"
   ]
  },
  {
   "cell_type": "code",
   "execution_count": 0,
   "metadata": {
    "application/vnd.databricks.v1+cell": {
     "cellMetadata": {
      "byteLimit": 2048000,
      "rowLimit": 10000
     },
     "inputWidgets": {},
     "nuid": "2e9030ea-50c5-46a2-a84b-b46fa102d2e9",
     "showTitle": false,
     "tableResultSettingsMap": {
      "0": {
       "dataGridStateBlob": "{\"version\":1,\"tableState\":{\"columnPinning\":{\"left\":[\"#row_number#\"],\"right\":[]},\"columnSizing\":{},\"columnVisibility\":{}},\"settings\":{\"columns\":{}},\"syncTimestamp\":1760011147353}",
       "filterBlob": null,
       "queryPlanFiltersBlob": null,
       "tableResultIndex": 0
      }
     },
     "title": ""
    }
   },
   "outputs": [],
   "source": [
    "%python\n",
    "from pyspark.sql.functions import current_date, lit\n",
    "\n",
    "silver_df = spark.read.table(\"silver.sellers_cleaned\") \n",
    "\n",
    "updates_df = (\n",
    "    silver_df\n",
    "    .withColumn(\"start_date\", current_date())\n",
    "    .withColumn(\"end_date\", lit(None).cast(\"date\"))\n",
    "    .withColumn(\"is_current\", lit(True))\n",
    ")\n",
    "updates_df.display()"
   ]
  },
  {
   "cell_type": "code",
   "execution_count": 0,
   "metadata": {
    "application/vnd.databricks.v1+cell": {
     "cellMetadata": {
      "byteLimit": 2048000,
      "rowLimit": 10000
     },
     "inputWidgets": {},
     "nuid": "7dfe14f5-32e0-4d60-9d78-9c8ac8fba681",
     "showTitle": false,
     "tableResultSettingsMap": {},
     "title": ""
    }
   },
   "outputs": [],
   "source": [
    "%python\n",
    "updates_df.createOrReplaceTempView(\"updates_view\")"
   ]
  },
  {
   "cell_type": "code",
   "execution_count": 0,
   "metadata": {
    "application/vnd.databricks.v1+cell": {
     "cellMetadata": {
      "byteLimit": 2048000,
      "rowLimit": 10000
     },
     "inputWidgets": {},
     "nuid": "248a9b89-d6d5-4b11-85ca-b0328e040acd",
     "showTitle": false,
     "tableResultSettingsMap": {},
     "title": ""
    }
   },
   "outputs": [],
   "source": [
    "MERGE INTO gold.dim_sellers AS target\n",
    "USING updates_view AS source\n",
    "ON target.seller_id = source.seller_id AND target.is_current = true\n",
    "\n",
    "WHEN MATCHED AND (\n",
    "  target.seller_city != source.seller_city OR\n",
    "  target.seller_state != source.seller_state\n",
    ") THEN\n",
    "  UPDATE SET\n",
    "    end_date = current_date(),\n",
    "    is_current = false\n",
    "\n",
    "WHEN NOT MATCHED THEN\n",
    "  INSERT (\n",
    "    seller_id,\n",
    "    seller_zip_code_prefix,\n",
    "    seller_city,\n",
    "    seller_state,\n",
    "    geolocation_sk,\n",
    "    start_date,\n",
    "    end_date,\n",
    "    is_current\n",
    "  )\n",
    "  VALUES (\n",
    "    source.seller_id,\n",
    "    source.seller_zip_code_prefix,\n",
    "    source.seller_city,\n",
    "    source.seller_state,\n",
    "    source.geolocation_sk,\n",
    "    current_date(),\n",
    "    NULL,\n",
    "    true\n",
    "  );\n",
    "\n",
    "\n"
   ]
  },
  {
   "cell_type": "code",
   "execution_count": 0,
   "metadata": {
    "application/vnd.databricks.v1+cell": {
     "cellMetadata": {
      "byteLimit": 2048000,
      "rowLimit": 10000
     },
     "inputWidgets": {},
     "nuid": "f7e4f574-ea34-4df5-a5bf-e1da038cba04",
     "showTitle": false,
     "tableResultSettingsMap": {},
     "title": ""
    }
   },
   "outputs": [],
   "source": [
    "SELECT * FROM gold.dim_sellers LIMIT 10;"
   ]
  },
  {
   "cell_type": "code",
   "execution_count": 0,
   "metadata": {
    "application/vnd.databricks.v1+cell": {
     "cellMetadata": {},
     "inputWidgets": {},
     "nuid": "34659915-8c7e-4ebb-a56f-b8a215fe3b31",
     "showTitle": false,
     "tableResultSettingsMap": {},
     "title": ""
    }
   },
   "outputs": [],
   "source": []
  }
 ],
 "metadata": {
  "application/vnd.databricks.v1+notebook": {
   "computePreferences": {
    "hardware": {
     "accelerator": null,
     "gpuPoolId": null,
     "memory": null
    }
   },
   "dashboards": [],
   "environmentMetadata": {
    "base_environment": "",
    "environment_version": "3"
   },
   "inputWidgetPreferences": null,
   "language": "sql",
   "notebookMetadata": {
    "pythonIndentUnit": 4
   },
   "notebookName": "dim_seller",
   "widgets": {}
  },
  "language_info": {
   "name": "sql"
  }
 },
 "nbformat": 4,
 "nbformat_minor": 0
}
