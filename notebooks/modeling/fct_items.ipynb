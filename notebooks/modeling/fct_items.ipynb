{
 "cells": [
  {
   "cell_type": "code",
   "execution_count": 0,
   "metadata": {
    "application/vnd.databricks.v1+cell": {
     "cellMetadata": {
      "byteLimit": 2048000,
      "rowLimit": 10000
     },
     "inputWidgets": {},
     "nuid": "d54f2671-3bc8-4628-b569-4e1f2a6fd211",
     "showTitle": false,
     "tableResultSettingsMap": {},
     "title": ""
    }
   },
   "outputs": [],
   "source": [
    "CREATE TABLE IF NOT EXISTS gold.fct_items (\n",
    "  item_sk BIGINT GENERATED ALWAYS AS IDENTITY,\n",
    "  order_sk BIGINT,\n",
    "  product_sk BIGINT,\n",
    "  customer_sk BIGINT,\n",
    "  seller_sk BIGINT,\n",
    "  price DECIMAL(10,2),\n",
    "  freight_value DECIMAL(10,2),\n",
    "  order_purchase_timestamp TIMESTAMP\n",
    ") USING DELTA\n",
    "\n",
    "  "
   ]
  },
  {
   "cell_type": "code",
   "execution_count": 0,
   "metadata": {
    "application/vnd.databricks.v1+cell": {
     "cellMetadata": {
      "byteLimit": 2048000,
      "rowLimit": 10000
     },
     "inputWidgets": {},
     "nuid": "aad61c1f-17dc-40dc-b140-d4376d729ec7",
     "showTitle": false,
     "tableResultSettingsMap": {
      "0": {
       "dataGridStateBlob": "{\"version\":1,\"tableState\":{\"columnPinning\":{\"left\":[\"#row_number#\"],\"right\":[]},\"columnSizing\":{},\"columnVisibility\":{}},\"settings\":{\"columns\":{}},\"syncTimestamp\":1760525041128}",
       "filterBlob": null,
       "queryPlanFiltersBlob": null,
       "tableResultIndex": 0
      }
     },
     "title": ""
    }
   },
   "outputs": [],
   "source": [
    "%python\n",
    "items_df = (\n",
    "  spark.read.table(\"silver.order_items_cleaned\")\n",
    ".join(spark.read.table(\"gold.dim_orders\"), \"order_id\")\n",
    ".join(spark.read.table(\"gold.dim_payments\"), \"order_id\")\n",
    ".join(spark.read.table(\"gold.dim_reviews\"), \"order_id\", \"left\")\n",
    ".join(spark.read.table(\"gold.dim_sellers\"), \"seller_id\")\n",
    ".join(spark.read.table(\"gold.dim_products\"), \"product_id\")\n",
    ".join(spark.read.table(\"gold.dim_customer\"), \"customer_id\")\n",
    ".select(\"order_sk\", \"product_sk\", \"customer_sk\", \"seller_sk\", \"price\", \"freight_value\", \"order_purchase_timestamp\")\n",
    ")\n",
    "items_df.display()\n"
   ]
  },
  {
   "cell_type": "code",
   "execution_count": 0,
   "metadata": {
    "application/vnd.databricks.v1+cell": {
     "cellMetadata": {
      "byteLimit": 2048000,
      "rowLimit": 10000
     },
     "inputWidgets": {},
     "nuid": "fdf68124-1010-4b4a-8a3d-eefe93eedc5e",
     "showTitle": false,
     "tableResultSettingsMap": {},
     "title": ""
    }
   },
   "outputs": [],
   "source": [
    "%python\n",
    "items_df.createOrReplaceTempView(\"items_view\")"
   ]
  },
  {
   "cell_type": "code",
   "execution_count": 0,
   "metadata": {
    "application/vnd.databricks.v1+cell": {
     "cellMetadata": {
      "byteLimit": 2048000,
      "rowLimit": 10000
     },
     "inputWidgets": {},
     "nuid": "c7597c79-d6f3-4405-b6b2-76a48cf16d96",
     "showTitle": false,
     "tableResultSettingsMap": {},
     "title": ""
    }
   },
   "outputs": [],
   "source": [
    "MERGE INTO gold.fct_items AS t\n",
    "USING items_view AS s\n",
    "ON t.order_sk = s.order_sk\n",
    "\n",
    "WHEN MATCHED THEN\n",
    "  UPDATE SET \n",
    "  t.price = s.price,\n",
    "  t.freight_value = s.freight_value\n",
    "\n",
    "WHEN NOT MATCHED\n",
    "  THEN INSERT (\n",
    "    order_sk,\n",
    "    product_sk,\n",
    "    customer_sk,\n",
    "    seller_sk,\n",
    "    price,\n",
    "    freight_value,\n",
    "    order_purchase_timestamp\n",
    "  ) VALUES (\n",
    "    s.order_sk,\n",
    "    s.product_sk,\n",
    "    s.customer_sk,\n",
    "    s.seller_sk,\n",
    "    s.price,\n",
    "    s.freight_value,\n",
    "    s.order_purchase_timestamp\n",
    "  )\n"
   ]
  },
  {
   "cell_type": "code",
   "execution_count": 0,
   "metadata": {
    "application/vnd.databricks.v1+cell": {
     "cellMetadata": {
      "byteLimit": 2048000,
      "rowLimit": 10000
     },
     "inputWidgets": {},
     "nuid": "5daeb76c-7b13-44a1-8daf-b04993e44f5d",
     "showTitle": false,
     "tableResultSettingsMap": {},
     "title": ""
    }
   },
   "outputs": [],
   "source": [
    "SELECT * FROM gold.fct_items ORDER BY order_purchase_timestamp LIMIT 10;"
   ]
  },
  {
   "cell_type": "code",
   "execution_count": 0,
   "metadata": {
    "application/vnd.databricks.v1+cell": {
     "cellMetadata": {},
     "inputWidgets": {},
     "nuid": "3001a53c-783d-45d0-b8e7-219435862e2b",
     "showTitle": false,
     "tableResultSettingsMap": {},
     "title": ""
    }
   },
   "outputs": [],
   "source": []
  }
 ],
 "metadata": {
  "application/vnd.databricks.v1+notebook": {
   "computePreferences": null,
   "dashboards": [],
   "environmentMetadata": {
    "base_environment": "",
    "environment_version": "4"
   },
   "inputWidgetPreferences": null,
   "language": "sql",
   "notebookMetadata": {
    "pythonIndentUnit": 4
   },
   "notebookName": "fct_items",
   "widgets": {}
  },
  "language_info": {
   "name": "sql"
  }
 },
 "nbformat": 4,
 "nbformat_minor": 0
}
