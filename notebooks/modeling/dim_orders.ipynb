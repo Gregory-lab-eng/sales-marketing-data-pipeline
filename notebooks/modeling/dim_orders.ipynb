{
 "cells": [
  {
   "cell_type": "code",
   "execution_count": 0,
   "metadata": {
    "application/vnd.databricks.v1+cell": {
     "cellMetadata": {
      "byteLimit": 2048000,
      "rowLimit": 10000
     },
     "inputWidgets": {},
     "nuid": "9dcd1311-193e-4185-82fb-697235f284fa",
     "showTitle": false,
     "tableResultSettingsMap": {},
     "title": ""
    }
   },
   "outputs": [],
   "source": [
    "CREATE TABLE IF NOT EXISTS gold.dim_orders (\n",
    "  order_sk BIGINT GENERATED ALWAYS AS IDENTITY,\n",
    "  order_id STRING,\n",
    "  customer_id STRING,\n",
    "  order_status STRING,\n",
    "  order_purchase_timestamp TIMESTAMP,\n",
    "  order_approved_at TIMESTAMP,\n",
    "  order_delivered_carrier_date TIMESTAMP,\n",
    "  order_delivered_customer_date TIMESTAMP,\n",
    "  order_estimated_delivery_date TIMESTAMP\n",
    ") \n",
    "USING DELTA;"
   ]
  },
  {
   "cell_type": "code",
   "execution_count": 0,
   "metadata": {
    "application/vnd.databricks.v1+cell": {
     "cellMetadata": {
      "byteLimit": 2048000,
      "rowLimit": 10000
     },
     "inputWidgets": {},
     "nuid": "978aae06-fbf3-49c2-b2be-3889435a6432",
     "showTitle": false,
     "tableResultSettingsMap": {},
     "title": ""
    }
   },
   "outputs": [],
   "source": [
    "%python\n",
    "orders_df = spark.read.table(\"silver.orders\")"
   ]
  },
  {
   "cell_type": "code",
   "execution_count": 0,
   "metadata": {
    "application/vnd.databricks.v1+cell": {
     "cellMetadata": {
      "byteLimit": 2048000,
      "rowLimit": 10000
     },
     "inputWidgets": {},
     "nuid": "e24b8cf5-037e-4f24-8dae-b385ae2ba844",
     "showTitle": false,
     "tableResultSettingsMap": {},
     "title": ""
    }
   },
   "outputs": [],
   "source": [
    "%python\n",
    "orders_df.createOrReplaceTempView(\"updates_view\")"
   ]
  },
  {
   "cell_type": "code",
   "execution_count": 0,
   "metadata": {
    "application/vnd.databricks.v1+cell": {
     "cellMetadata": {
      "byteLimit": 2048000,
      "rowLimit": 10000
     },
     "inputWidgets": {},
     "nuid": "d1a5bae4-b070-4f36-8a3f-c9314b30febf",
     "showTitle": false,
     "tableResultSettingsMap": {},
     "title": ""
    }
   },
   "outputs": [],
   "source": [
    "MERGE INTO gold.dim_orders s\n",
    "USING updates_view \n",
    "ON s.order_id = updates_view.order_id\n",
    "WHEN MATCHED\n",
    " THEN UPDATE SET \n",
    "  s.order_status = updates_view.order_status,\n",
    "  s.order_purchase_timestamp = updates_view.order_purchase_timestamp,\n",
    "  s.order_approved_at = updates_view.order_approved_at,\n",
    "  s.order_delivered_carrier_date = updates_view.order_delivered_carrier_date,\n",
    "  s.order_delivered_customer_date = updates_view.order_delivered_customer_date,\n",
    "  s.order_estimated_delivery_date = updates_view.order_estimated_delivery_date\n",
    "WHEN NOT MATCHED\n",
    " THEN INSERT (\n",
    "  order_id,\n",
    "  customer_id,\n",
    "  order_status,\n",
    "  order_purchase_timestamp,\n",
    "  order_approved_at,\n",
    "  order_delivered_carrier_date,\n",
    "  order_delivered_customer_date,\n",
    "  order_estimated_delivery_date\n",
    " ) VALUES (\n",
    "  updates_view.order_id,\n",
    "  updates_view.customer_id,\n",
    "  updates_view.order_status,\n",
    "  updates_view.order_purchase_timestamp,\n",
    "  updates_view.order_approved_at,\n",
    "  updates_view.order_delivered_carrier_date,\n",
    "  updates_view.order_delivered_customer_date,\n",
    "  updates_view.order_estimated_delivery_date\n",
    " )"
   ]
  },
  {
   "cell_type": "code",
   "execution_count": 0,
   "metadata": {
    "application/vnd.databricks.v1+cell": {
     "cellMetadata": {
      "byteLimit": 2048000,
      "rowLimit": 10000
     },
     "inputWidgets": {},
     "nuid": "199019e5-6c47-4e6e-afb7-e30b4954b46e",
     "showTitle": false,
     "tableResultSettingsMap": {},
     "title": ""
    }
   },
   "outputs": [],
   "source": [
    "SELECT * FROM gold.dim_orders LIMIT 10;"
   ]
  }
 ],
 "metadata": {
  "application/vnd.databricks.v1+notebook": {
   "computePreferences": null,
   "dashboards": [],
   "environmentMetadata": {
    "base_environment": "",
    "environment_version": "3"
   },
   "inputWidgetPreferences": null,
   "language": "sql",
   "notebookMetadata": {
    "pythonIndentUnit": 4
   },
   "notebookName": "dim_orders",
   "widgets": {}
  },
  "language_info": {
   "name": "sql"
  }
 },
 "nbformat": 4,
 "nbformat_minor": 0
}
