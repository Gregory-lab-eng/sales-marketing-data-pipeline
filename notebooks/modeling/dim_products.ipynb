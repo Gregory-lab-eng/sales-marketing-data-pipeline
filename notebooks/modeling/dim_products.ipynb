{
 "cells": [
  {
   "cell_type": "code",
   "execution_count": 0,
   "metadata": {
    "application/vnd.databricks.v1+cell": {
     "cellMetadata": {
      "byteLimit": 2048000,
      "rowLimit": 10000
     },
     "inputWidgets": {},
     "nuid": "2375597a-1e6a-4010-8d7a-f8da1bd0b6cb",
     "showTitle": false,
     "tableResultSettingsMap": {},
     "title": ""
    }
   },
   "outputs": [],
   "source": [
    "CREATE TABLE IF NOT EXISTS gold.dim_products (\n",
    "  product_sk BIGINT GENERATED ALWAYS AS IDENTITY,\n",
    "  product_id STRING,\n",
    "  product_category_name STRING,\n",
    "  product_category_name_english STRING,\n",
    "  product_name_lenght INT,\n",
    "  product_description_lenght INT,\n",
    "  product_photos_qty INT,\n",
    "  product_weight_g INT,\n",
    "  product_length_cm INT,\n",
    "  product_height_cm INT,\n",
    "  product_width_cm INT\n",
    ")\n",
    "  USING DELTA;\n"
   ]
  },
  {
   "cell_type": "code",
   "execution_count": 0,
   "metadata": {
    "application/vnd.databricks.v1+cell": {
     "cellMetadata": {
      "byteLimit": 2048000,
      "rowLimit": 10000
     },
     "inputWidgets": {},
     "nuid": "5ce5cc28-e425-403b-ae43-f46fca0c7304",
     "showTitle": false,
     "tableResultSettingsMap": {},
     "title": ""
    }
   },
   "outputs": [],
   "source": [
    "%python\n",
    "products_df = spark.read.table(\"silver.products_cleaned\")"
   ]
  },
  {
   "cell_type": "code",
   "execution_count": 0,
   "metadata": {
    "application/vnd.databricks.v1+cell": {
     "cellMetadata": {
      "byteLimit": 2048000,
      "rowLimit": 10000
     },
     "inputWidgets": {},
     "nuid": "7d81e794-ceb4-41bd-add4-2761e0ed913f",
     "showTitle": false,
     "tableResultSettingsMap": {},
     "title": ""
    }
   },
   "outputs": [],
   "source": [
    "%python\n",
    "products_df.createOrReplaceTempView(\"products_view\")"
   ]
  },
  {
   "cell_type": "code",
   "execution_count": 0,
   "metadata": {
    "application/vnd.databricks.v1+cell": {
     "cellMetadata": {
      "byteLimit": 2048000,
      "rowLimit": 10000
     },
     "inputWidgets": {},
     "nuid": "420b94db-fa1b-4b95-9474-f6aa4e0c2dbd",
     "showTitle": false,
     "tableResultSettingsMap": {},
     "title": ""
    }
   },
   "outputs": [],
   "source": [
    "MERGE INTO gold.dim_products AS t\n",
    "USING products_view AS s\n",
    "ON t.product_id = s.product_id\n",
    "\n",
    "WHEN MATCHED  THEN\n",
    "  UPDATE SET\n",
    "    t.product_category_name = s.product_category_name,\n",
    "    t.product_name_lenght = s.product_name_lenght,\n",
    "    t.product_description_lenght = s.product_description_lenght,\n",
    "    t.product_photos_qty = s.product_photos_qty,\n",
    "    t.product_weight_g = s.product_weight_g,\n",
    "    t.product_length_cm = s.product_length_cm,\n",
    "    t.product_height_cm = s.product_height_cm,\n",
    "    t.product_width_cm = s.product_width_cm\n",
    "\n",
    "\n",
    "WHEN NOT MATCHED THEN\n",
    "  INSERT (\n",
    "    product_id,\n",
    "    product_category_name,\n",
    "    product_name_lenght,\n",
    "    product_description_lenght,\n",
    "    product_photos_qty,\n",
    "    product_weight_g,\n",
    "    product_length_cm,\n",
    "    product_height_cm,\n",
    "    product_width_cm\n",
    "  )\n",
    "  VALUES (\n",
    "    s.product_id,\n",
    "    s.product_category_name,\n",
    "    s.product_name_lenght,\n",
    "    s.product_description_lenght,\n",
    "    s.product_photos_qty,\n",
    "    s.product_weight_g,\n",
    "    s.product_length_cm,\n",
    "    s.product_height_cm,\n",
    "    s.product_width_cm\n",
    "  )\n",
    "  ;\n"
   ]
  },
  {
   "cell_type": "code",
   "execution_count": 0,
   "metadata": {
    "application/vnd.databricks.v1+cell": {
     "cellMetadata": {
      "byteLimit": 2048000,
      "rowLimit": 10000
     },
     "inputWidgets": {},
     "nuid": "47ed63e4-efc9-4dcb-a643-2e829f262418",
     "showTitle": false,
     "tableResultSettingsMap": {},
     "title": ""
    }
   },
   "outputs": [],
   "source": []
  }
 ],
 "metadata": {
  "application/vnd.databricks.v1+notebook": {
   "computePreferences": {
    "hardware": {
     "accelerator": null,
     "gpuPoolId": null,
     "memory": null
    }
   },
   "dashboards": [],
   "environmentMetadata": {
    "base_environment": "",
    "environment_version": "3"
   },
   "inputWidgetPreferences": null,
   "language": "sql",
   "notebookMetadata": {
    "pythonIndentUnit": 4
   },
   "notebookName": "dim_products",
   "widgets": {}
  },
  "language_info": {
   "name": "sql"
  }
 },
 "nbformat": 4,
 "nbformat_minor": 0
}
