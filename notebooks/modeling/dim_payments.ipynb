{
 "cells": [
  {
   "cell_type": "code",
   "execution_count": 0,
   "metadata": {
    "application/vnd.databricks.v1+cell": {
     "cellMetadata": {
      "byteLimit": 2048000,
      "rowLimit": 10000
     },
     "inputWidgets": {},
     "nuid": "1b46ad5b-1605-4d64-b281-299e57c86d2f",
     "showTitle": false,
     "tableResultSettingsMap": {},
     "title": ""
    }
   },
   "outputs": [],
   "source": [
    "CREATE TABLE IF NOT EXISTS gold.dim_payments (\n",
    "  payment_sk BIGINT GENERATED ALWAYS AS IDENTITY,\n",
    "  order_id STRING,\n",
    "  payment_sequential INTEGER,\n",
    "  payment_type STRING,\n",
    "  payment_installments INTEGER,\n",
    "  payment_value DECIMAL(10,2)\n",
    ") \n",
    "USING DELTA\n"
   ]
  },
  {
   "cell_type": "code",
   "execution_count": 0,
   "metadata": {
    "application/vnd.databricks.v1+cell": {
     "cellMetadata": {
      "byteLimit": 2048000,
      "rowLimit": 10000
     },
     "inputWidgets": {},
     "nuid": "de439d91-032f-455f-b54e-2a17819aedc4",
     "showTitle": false,
     "tableResultSettingsMap": {},
     "title": ""
    }
   },
   "outputs": [],
   "source": [
    "%python\n",
    "payments_df = spark.read.table(\"silver.order_payments_cleaned\")\n",
    "payments_df.createOrReplaceTempView(\"payments_view\")\n"
   ]
  },
  {
   "cell_type": "code",
   "execution_count": 0,
   "metadata": {
    "application/vnd.databricks.v1+cell": {
     "cellMetadata": {
      "byteLimit": 2048000,
      "rowLimit": 10000
     },
     "inputWidgets": {},
     "nuid": "5e617df9-12b7-4699-bca3-2f7db8cb7c87",
     "showTitle": false,
     "tableResultSettingsMap": {},
     "title": ""
    }
   },
   "outputs": [],
   "source": [
    "MERGE INTO gold.dim_payments t\n",
    "USING payments_view s\n",
    "ON t.order_id = s.order_id\n",
    "\n",
    "WHEN MATCHED THEN\n",
    "  UPDATE SET \n",
    "    payment_sequential = s.payment_sequential,\n",
    "    payment_type = s.payment_type,\n",
    "    payment_installments = s.payment_installments,\n",
    "    payment_value = s.payment_value\n",
    "  \n",
    "WHEN NOT MATCHED\n",
    "  THEN INSERT (\n",
    "    order_id,\n",
    "    payment_sequential,\n",
    "    payment_type,\n",
    "    payment_installments,\n",
    "    payment_value\n",
    "  ) VALUES (\n",
    "    s.order_id,\n",
    "    s.payment_sequential,\n",
    "    s.payment_type,\n",
    "    s.payment_installments,\n",
    "    s.payment_value\n",
    "  )\n"
   ]
  },
  {
   "cell_type": "code",
   "execution_count": 0,
   "metadata": {
    "application/vnd.databricks.v1+cell": {
     "cellMetadata": {
      "byteLimit": 2048000,
      "rowLimit": 10000
     },
     "inputWidgets": {},
     "nuid": "2edd74d8-d6eb-4a91-a5e5-63f9cb42dd1d",
     "showTitle": false,
     "tableResultSettingsMap": {},
     "title": ""
    }
   },
   "outputs": [],
   "source": [
    "SELECT * FROM gold.dim_payments LIMIT 10;"
   ]
  },
  {
   "cell_type": "code",
   "execution_count": 0,
   "metadata": {
    "application/vnd.databricks.v1+cell": {
     "cellMetadata": {},
     "inputWidgets": {},
     "nuid": "8fc98ca5-eeb8-425e-9d71-5441d59e4196",
     "showTitle": false,
     "tableResultSettingsMap": {},
     "title": ""
    }
   },
   "outputs": [],
   "source": []
  }
 ],
 "metadata": {
  "application/vnd.databricks.v1+notebook": {
   "computePreferences": null,
   "dashboards": [],
   "environmentMetadata": {
    "base_environment": "",
    "environment_version": "3"
   },
   "inputWidgetPreferences": null,
   "language": "sql",
   "notebookMetadata": {
    "pythonIndentUnit": 4
   },
   "notebookName": "dim_payments",
   "widgets": {}
  },
  "language_info": {
   "name": "sql"
  }
 },
 "nbformat": 4,
 "nbformat_minor": 0
}
