{
 "cells": [
  {
   "cell_type": "code",
   "execution_count": 0,
   "metadata": {
    "application/vnd.databricks.v1+cell": {
     "cellMetadata": {
      "byteLimit": 2048000,
      "rowLimit": 10000
     },
     "inputWidgets": {},
     "nuid": "9dcd1311-193e-4185-82fb-697235f284fa",
     "showTitle": false,
     "tableResultSettingsMap": {},
     "title": ""
    }
   },
   "outputs": [],
   "source": [
    "CREATE TABLE IF NOT EXISTS gold.fct_orders (\n",
    "  order_id STRING,\n",
    "  customer_sk BIGINT,\n",
    "  product_sk BIGINT,\n",
    "  seller_sk BIGINT,\n",
    "  review_sk BIGINT,\n",
    "  payment_sk BIGINT,\n",
    "  order_date DATE,\n",
    "  delivery_date DATE,\n",
    "  order_status STRING,\n",
    "  payment_type STRING,\n",
    "  review_score INT,\n",
    "  order_value DOUBLE\n",
    ") USING DELTA\n",
    "PARTITIONED BY (order_date);"
   ]
  },
  {
   "cell_type": "code",
   "execution_count": 0,
   "metadata": {
    "application/vnd.databricks.v1+cell": {
     "cellMetadata": {
      "byteLimit": 2048000,
      "rowLimit": 10000
     },
     "inputWidgets": {},
     "nuid": "978aae06-fbf3-49c2-b2be-3889435a6432",
     "showTitle": false,
     "tableResultSettingsMap": {},
     "title": ""
    }
   },
   "outputs": [],
   "source": [
    "%python\n",
    "dim_customer = spark.read.table(\"gold.dim_customer\").filter(\"is_current = true\")\n",
    "dim_products = spark.read.table(\"gold.dim_products\")\n",
    "dim_sellers = spark.read.table(\"gold.dim_sellers\").filter(\"is_current = true\")\n",
    "dim_reviews = spark.read.table(\"gold.dim_reviews\")\n",
    "dim_items = spark.read.table(\"gold.dim_items\")\n",
    "dim_payments = spark.read.table(\"gold.dim_payments\")\n",
    "orders = spark.read.table(\"silver.orders\")"
   ]
  },
  {
   "cell_type": "code",
   "execution_count": 0,
   "metadata": {
    "application/vnd.databricks.v1+cell": {
     "cellMetadata": {
      "byteLimit": 2048000,
      "rowLimit": 10000
     },
     "inputWidgets": {},
     "nuid": "d1a5bae4-b070-4f36-8a3f-c9314b30febf",
     "showTitle": false,
     "tableResultSettingsMap": {},
     "title": ""
    }
   },
   "outputs": [],
   "source": [
    "%python\n",
    "orders_df = (\n",
    "    dim_items\n",
    "    .join(orders, \"order_id\")\n",
    "    .join(dim_payments, \"order_id\")\n",
    "    .join(dim_customer, \"customer_id\")\n",
    "    .join(dim_products, \"product_id\")\n",
    "    .join(dim_sellers, \"seller_id\")\n",
    "    .join(dim_reviews, \"order_id\", \"left\")\n",
    "    .select(\n",
    "        \"order_id\",\n",
    "        \"customer_sk\",\n",
    "        \"product_sk\",\n",
    "        \"seller_sk\",\n",
    "        \"review_sk\",\n",
    "        \"payment_sk\",\n",
    "        \"price\"\n",
    "    )\n",
    ")"
   ]
  },
  {
   "cell_type": "code",
   "execution_count": 0,
   "metadata": {
    "application/vnd.databricks.v1+cell": {
     "cellMetadata": {
      "byteLimit": 2048000,
      "rowLimit": 10000
     },
     "inputWidgets": {},
     "nuid": "1babce00-cf0b-44c3-a7c4-d0dd32d641f3",
     "showTitle": false,
     "tableResultSettingsMap": {
      "0": {
       "dataGridStateBlob": "{\"version\":1,\"tableState\":{\"columnPinning\":{\"left\":[\"#row_number#\"],\"right\":[]},\"columnSizing\":{},\"columnVisibility\":{}},\"settings\":{\"columns\":{}},\"syncTimestamp\":1760096035466}",
       "filterBlob": null,
       "queryPlanFiltersBlob": null,
       "tableResultIndex": 0
      }
     },
     "title": ""
    }
   },
   "outputs": [],
   "source": [
    "%python\n",
    "orders_df.display()"
   ]
  },
  {
   "cell_type": "code",
   "execution_count": 0,
   "metadata": {
    "application/vnd.databricks.v1+cell": {
     "cellMetadata": {},
     "inputWidgets": {},
     "nuid": "513a242d-aa7a-4f2c-a2aa-c99a65932387",
     "showTitle": false,
     "tableResultSettingsMap": {},
     "title": ""
    }
   },
   "outputs": [],
   "source": []
  }
 ],
 "metadata": {
  "application/vnd.databricks.v1+notebook": {
   "computePreferences": null,
   "dashboards": [],
   "environmentMetadata": {
    "base_environment": "",
    "environment_version": "3"
   },
   "inputWidgetPreferences": null,
   "language": "sql",
   "notebookMetadata": {
    "pythonIndentUnit": 4
   },
   "notebookName": "fct_orders",
   "widgets": {}
  },
  "language_info": {
   "name": "sql"
  }
 },
 "nbformat": 4,
 "nbformat_minor": 0
}
