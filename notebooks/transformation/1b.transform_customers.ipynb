{
 "cells": [
  {
   "cell_type": "code",
   "execution_count": 0,
   "metadata": {
    "application/vnd.databricks.v1+cell": {
     "cellMetadata": {
      "byteLimit": 2048000,
      "rowLimit": 10000
     },
     "inputWidgets": {},
     "nuid": "39435794-2ef4-43ce-ad23-7ea19a1bf8e9",
     "showTitle": false,
     "tableResultSettingsMap": {},
     "title": ""
    }
   },
   "outputs": [],
   "source": [
    "from pyspark.sql.functions import col, sum, current_timestamp"
   ]
  },
  {
   "cell_type": "code",
   "execution_count": 0,
   "metadata": {
    "application/vnd.databricks.v1+cell": {
     "cellMetadata": {
      "byteLimit": 2048000,
      "rowLimit": 10000
     },
     "inputWidgets": {},
     "nuid": "be981eec-a1d5-4224-a773-dd154bb1849b",
     "showTitle": false,
     "tableResultSettingsMap": {},
     "title": ""
    }
   },
   "outputs": [],
   "source": [
    "bronze_df = (\n",
    "    spark.read\n",
    "    .format(\"delta\")\n",
    "    .table(\"bronze.customers\")\n",
    ")"
   ]
  },
  {
   "cell_type": "code",
   "execution_count": 0,
   "metadata": {
    "application/vnd.databricks.v1+cell": {
     "cellMetadata": {
      "byteLimit": 2048000,
      "rowLimit": 10000
     },
     "inputWidgets": {},
     "nuid": "1d74ca56-952c-476d-9313-7fc51bfcfba5",
     "showTitle": false,
     "tableResultSettingsMap": {},
     "title": ""
    }
   },
   "outputs": [],
   "source": [
    "display(bronze_df.limit(50))"
   ]
  },
  {
   "cell_type": "code",
   "execution_count": 0,
   "metadata": {
    "application/vnd.databricks.v1+cell": {
     "cellMetadata": {
      "byteLimit": 2048000,
      "rowLimit": 10000
     },
     "inputWidgets": {},
     "nuid": "2870e9c0-38be-4843-b8c4-d289a1667a04",
     "showTitle": false,
     "tableResultSettingsMap": {},
     "title": ""
    }
   },
   "outputs": [],
   "source": [
    "null_counts = bronze_df.select([\n",
    "    sum(col(c).isNull().cast(\"int\")).alias(c)\n",
    "    for c in bronze_df.columns\n",
    "])\n",
    "\n",
    "null_counts.show()"
   ]
  },
  {
   "cell_type": "code",
   "execution_count": 0,
   "metadata": {
    "application/vnd.databricks.v1+cell": {
     "cellMetadata": {
      "byteLimit": 2048000,
      "rowLimit": 10000
     },
     "inputWidgets": {},
     "nuid": "ef25a729-8cb6-4779-912e-679c556e1dee",
     "showTitle": false,
     "tableResultSettingsMap": {},
     "title": ""
    }
   },
   "outputs": [],
   "source": [
    "silver_df = (\n",
    "    spark.readStream.table(\"bronze.customers\")\n",
    "    .filter(\"customer_unique_id IS NOT NULL\")\n",
    "    .dropDuplicates([\"customer_unique_id\"])\n",
    "    .dropDuplicates([\"customer_id\"])\n",
    "    .withColumn(\"ingest_time\", current_timestamp())\n",
    "    .drop(\"_rescued_data\")\n",
    ")\n",
    "\n",
    "\n",
    "geo_df = (\n",
    "    spark.read.table(\"silver.geolocations_cleaned\")\n",
    ")\n",
    "\n",
    "\n",
    "customer_geo_df = silver_df.join(geo_df, silver_df.customer_zip_code_prefix == geo_df.geolocation_zip_code_prefix, \"left\").select(*silver_df.columns, geo_df.geolocation_sk)\n",
    "\n",
    "\n",
    "customer_geo_df.createOrReplaceTempView(\"silver_updates\")\n",
    "\n",
    "\n",
    "(customer_geo_df.writeStream\n",
    "    .format(\"delta\")\n",
    "    .outputMode(\"append\")  \n",
    "    .option(\"checkpointLocation\", \"abfss://metadata@salesmarketingstorage1.dfs.core.windows.net/checkpoints/silver/customers\")\n",
    "    .trigger(availableNow=True)\n",
    "    .table(\"silver.customers_cleaned\"))\n",
    "\n"
   ]
  },
  {
   "cell_type": "code",
   "execution_count": 0,
   "metadata": {
    "application/vnd.databricks.v1+cell": {
     "cellMetadata": {
      "byteLimit": 2048000,
      "implicitDf": true,
      "rowLimit": 10000
     },
     "inputWidgets": {},
     "nuid": "5b3be867-f155-4dff-b8e9-52b1811d98a3",
     "showTitle": false,
     "tableResultSettingsMap": {
      "0": {
       "dataGridStateBlob": "{\"version\":1,\"tableState\":{\"columnPinning\":{\"left\":[\"#row_number#\"],\"right\":[]},\"columnSizing\":{},\"columnVisibility\":{}},\"settings\":{\"columns\":{}},\"syncTimestamp\":1760623925463}",
       "filterBlob": null,
       "queryPlanFiltersBlob": null,
       "tableResultIndex": 0
      }
     },
     "title": ""
    }
   },
   "outputs": [],
   "source": [
    "%sql select * from silver.customers_cleaned limit 10;"
   ]
  }
 ],
 "metadata": {
  "application/vnd.databricks.v1+notebook": {
   "computePreferences": null,
   "dashboards": [],
   "environmentMetadata": {
    "base_environment": "",
    "environment_version": "3"
   },
   "inputWidgetPreferences": null,
   "language": "python",
   "notebookMetadata": {
    "mostRecentlyExecutedCommandWithImplicitDF": {
     "commandId": 5595308498422581,
     "dataframes": [
      "_sqldf"
     ]
    },
    "pythonIndentUnit": 4
   },
   "notebookName": "1b.transform_customers",
   "widgets": {}
  },
  "language_info": {
   "name": "python"
  }
 },
 "nbformat": 4,
 "nbformat_minor": 0
}
